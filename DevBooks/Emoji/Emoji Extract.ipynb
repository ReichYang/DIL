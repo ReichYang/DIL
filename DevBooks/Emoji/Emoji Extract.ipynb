{
 "cells": [
  {
   "cell_type": "code",
   "execution_count": 18,
   "metadata": {},
   "outputs": [],
   "source": [
    "import pandas as pd\n",
    "import re, regex \n",
    "import numpy as np\n",
    "import emoji"
   ]
  },
  {
   "cell_type": "code",
   "execution_count": 19,
   "metadata": {},
   "outputs": [],
   "source": [
    "def split_count(text):\n",
    "\n",
    "    emoji_list = []\n",
    "    data = regex.findall(r'\\X', text)\n",
    "    for word in data:\n",
    "        if any(char in emoji.UNICODE_EMOJI for char in word):\n",
    "            emoji_list.append(word)\n",
    "    flags = regex.findall(u'[\\U0001F1E6-\\U0001F1FF]', text) \n",
    "    return emoji_list + flags"
   ]
  },
  {
   "cell_type": "code",
   "execution_count": 9,
   "metadata": {},
   "outputs": [],
   "source": [
    "db=pd.read_excel(\"Comprehensive TAGS v6.1.9, 2016-Feb 2019.xlsx\", sheet_name=1)"
   ]
  },
  {
   "cell_type": "code",
   "execution_count": 29,
   "metadata": {},
   "outputs": [],
   "source": [
    "db['Emo_list']=db.text.apply(split_count)"
   ]
  },
  {
   "cell_type": "code",
   "execution_count": 54,
   "metadata": {},
   "outputs": [],
   "source": [
    "emoji_list=db.Emo_list[db.Emo_list.map(lambda x: len(x)>0)]"
   ]
  },
  {
   "cell_type": "code",
   "execution_count": 55,
   "metadata": {},
   "outputs": [],
   "source": [
    "flat_list=[e for ls in emoji_list for e in ls]"
   ]
  },
  {
   "cell_type": "code",
   "execution_count": 57,
   "metadata": {},
   "outputs": [],
   "source": [
    "from collections import Counter"
   ]
  },
  {
   "cell_type": "code",
   "execution_count": 63,
   "metadata": {},
   "outputs": [
    {
     "data": {
      "text/plain": [
       "[('🤔', 500),\n",
       " ('💕', 465),\n",
       " ('🌈', 459),\n",
       " ('✝️', 418),\n",
       " ('💖', 289),\n",
       " ('🤠', 287),\n",
       " ('🚫', 286),\n",
       " ('😡', 226),\n",
       " ('👇', 203),\n",
       " ('😌', 174),\n",
       " ('🚨', 173),\n",
       " ('👏', 171),\n",
       " ('🔥', 154),\n",
       " ('🇺', 123),\n",
       " ('🇸', 121),\n",
       " ('⤵️', 109),\n",
       " ('🙏', 100),\n",
       " ('👏🏾', 91),\n",
       " ('✊️', 86),\n",
       " ('❤️', 84)]"
      ]
     },
     "execution_count": 63,
     "metadata": {},
     "output_type": "execute_result"
    }
   ],
   "source": [
    "Counter(flat_list).most_common(20)"
   ]
  },
  {
   "cell_type": "code",
   "execution_count": 64,
   "metadata": {},
   "outputs": [],
   "source": [
    "degree_list=Counter(flat_list)"
   ]
  },
  {
   "cell_type": "code",
   "execution_count": 74,
   "metadata": {},
   "outputs": [],
   "source": [
    "degree_db=pd.DataFrame.from_records([degree_list]).T.reset_index()"
   ]
  },
  {
   "cell_type": "code",
   "execution_count": 75,
   "metadata": {},
   "outputs": [],
   "source": [
    "degree_db.columns=['emoji',\"degree\"]"
   ]
  },
  {
   "cell_type": "code",
   "execution_count": 89,
   "metadata": {},
   "outputs": [],
   "source": [
    "degree_db.to_csv(\"emoji_degree.csv\")"
   ]
  },
  {
   "cell_type": "code",
   "execution_count": 93,
   "metadata": {},
   "outputs": [
    {
     "data": {
      "text/plain": [
       "65                      [👉, 👈]\n",
       "163            [🔥, 👀, 👀, 👀, 🔥]\n",
       "215            [🔥, 👀, 👀, 👀, 🔥]\n",
       "259                  [📰, 🔹, 🔹]\n",
       "262        [🙅🏿‍♂️, 🐏, 👀, 🇺, 🇸]\n",
       "1777                    [🖤, 🖤]\n",
       "1791                 [💀, 💀, 💀]\n",
       "1814        [🔥, 🔥, 🔥, 🔥, 🔥, 🔥]\n",
       "1833                 [🍿, 🍿, 🍿]\n",
       "1853                 [🍿, 🍿, 🍿]\n",
       "1955                    [🤔, 🧐]\n",
       "1968                    [🤔, 🧐]\n",
       "2021                    [🖤, 🖤]\n",
       "2045                    [🖤, 🖤]\n",
       "2072                    [🖤, 🖤]\n",
       "2135                    [🖤, 🖤]\n",
       "2138                    [🖤, 🖤]\n",
       "2139                    [🖤, 🖤]\n",
       "2154                    [🖤, 🖤]\n",
       "2156                    [🖤, 🖤]\n",
       "2167                    [🖤, 🖤]\n",
       "2168                    [🖤, 🖤]\n",
       "2171                    [🖤, 🖤]\n",
       "2173                    [🖤, 🖤]\n",
       "2184                    [🖤, 🖤]\n",
       "2186                    [🖤, 🖤]\n",
       "2984                  [👏🏾, 👏🏾]\n",
       "3413                 [👇, 👇, 👇]\n",
       "3644              [↙️, ↙️, ↙️]\n",
       "3889                    [🙌, ✊]\n",
       "                 ...          \n",
       "56565                   [🚨, 🚨]\n",
       "56567                   [🚨, 🚨]\n",
       "56568                 [👇🏼, 👇🏼]\n",
       "56573                   [🚨, 🚨]\n",
       "56584                   [🚨, 🚨]\n",
       "56587                   [🚨, 🚨]\n",
       "56613                   [🚨, 🚨]\n",
       "56620                   [🚨, 🚨]\n",
       "56628                   [🚨, 🚨]\n",
       "56633                   [🚨, 🚨]\n",
       "56659              [✔️, ✔️, 👇]\n",
       "56664                 [🤛🏾, 👊🏽]\n",
       "56988     [👀, ☮️, 🙏, ❤️, 🇺, 🇸]\n",
       "57065             [🚨, 😒, 👻, 😒]\n",
       "57164                   [🔥, 📰]\n",
       "57181             [👻, 👻, 👻, 😂]\n",
       "57192                [🗽, 🔥, 😔]\n",
       "57346                   [✅, 👇]\n",
       "57398                   [✅, 👇]\n",
       "58195           [🔥, ⚡️, ⚡️, 💥]\n",
       "58267           [🔥, ⚡️, ⚡️, 💥]\n",
       "58313                 [🤛🏾, 👊🏽]\n",
       "58524             [👇🏻, 👇🏻, 👇🏻]\n",
       "58615            [💪, ❤️, 🇺, 🇸]\n",
       "58932    [👏, 👏, 👏, 👏, 👏, 👏, 💪]\n",
       "58984    [👏, 👏, 👏, 👏, 👏, 👏, 💪]\n",
       "59156                   [🙏, 🙌]\n",
       "59185                   [😂, 😂]\n",
       "59228                   [😂, 😭]\n",
       "59237                   [😜, 😂]\n",
       "Name: Emo_list, Length: 1329, dtype: object"
      ]
     },
     "execution_count": 93,
     "metadata": {},
     "output_type": "execute_result"
    }
   ],
   "source": [
    "emoji_list[emoji_list.map(lambda x: len(x)>1)]"
   ]
  },
  {
   "cell_type": "code",
   "execution_count": 111,
   "metadata": {},
   "outputs": [],
   "source": [
    "d=[]"
   ]
  },
  {
   "cell_type": "code",
   "execution_count": 112,
   "metadata": {},
   "outputs": [],
   "source": [
    "def buildKeys(ls):\n",
    "    for i in range(len(ls)):\n",
    "        for j in range(i+1,len(ls)):\n",
    "            a = ls[i]\n",
    "            b = ls[j]\n",
    "            d.append((a,b))"
   ]
  },
  {
   "cell_type": "code",
   "execution_count": 113,
   "metadata": {
    "collapsed": true
   },
   "outputs": [
    {
     "data": {
      "text/plain": [
       "65       None\n",
       "163      None\n",
       "215      None\n",
       "259      None\n",
       "262      None\n",
       "1777     None\n",
       "1791     None\n",
       "1814     None\n",
       "1833     None\n",
       "1853     None\n",
       "1955     None\n",
       "1968     None\n",
       "2021     None\n",
       "2045     None\n",
       "2072     None\n",
       "2135     None\n",
       "2138     None\n",
       "2139     None\n",
       "2154     None\n",
       "2156     None\n",
       "2167     None\n",
       "2168     None\n",
       "2171     None\n",
       "2173     None\n",
       "2184     None\n",
       "2186     None\n",
       "2984     None\n",
       "3413     None\n",
       "3644     None\n",
       "3889     None\n",
       "         ... \n",
       "56565    None\n",
       "56567    None\n",
       "56568    None\n",
       "56573    None\n",
       "56584    None\n",
       "56587    None\n",
       "56613    None\n",
       "56620    None\n",
       "56628    None\n",
       "56633    None\n",
       "56659    None\n",
       "56664    None\n",
       "56988    None\n",
       "57065    None\n",
       "57164    None\n",
       "57181    None\n",
       "57192    None\n",
       "57346    None\n",
       "57398    None\n",
       "58195    None\n",
       "58267    None\n",
       "58313    None\n",
       "58524    None\n",
       "58615    None\n",
       "58932    None\n",
       "58984    None\n",
       "59156    None\n",
       "59185    None\n",
       "59228    None\n",
       "59237    None\n",
       "Name: Emo_list, Length: 1329, dtype: object"
      ]
     },
     "execution_count": 113,
     "metadata": {},
     "output_type": "execute_result"
    }
   ],
   "source": [
    "emoji_list[emoji_list.map(lambda x: len(x)>1)].apply(buildKeys)"
   ]
  },
  {
   "cell_type": "code",
   "execution_count": 120,
   "metadata": {},
   "outputs": [],
   "source": [
    "d2=[]"
   ]
  },
  {
   "cell_type": "code",
   "execution_count": 131,
   "metadata": {},
   "outputs": [],
   "source": [
    "for k,v in dict(Counter(d)).items():\n",
    "    d2.append({\"emo1\":k[0],\"emo2\":k[1],\"weight\":v})"
   ]
  },
  {
   "cell_type": "code",
   "execution_count": 134,
   "metadata": {},
   "outputs": [],
   "source": [
    "edges=pd.DataFrame(d2)"
   ]
  },
  {
   "cell_type": "code",
   "execution_count": 136,
   "metadata": {},
   "outputs": [],
   "source": [
    "edges.to_csv(\"emoji_edges.csv\")"
   ]
  }
 ],
 "metadata": {
  "kernelspec": {
   "display_name": "Python 3",
   "language": "python",
   "name": "python3"
  },
  "language_info": {
   "codemirror_mode": {
    "name": "ipython",
    "version": 3
   },
   "file_extension": ".py",
   "mimetype": "text/x-python",
   "name": "python",
   "nbconvert_exporter": "python",
   "pygments_lexer": "ipython3",
   "version": "3.6.5"
  }
 },
 "nbformat": 4,
 "nbformat_minor": 2
}
