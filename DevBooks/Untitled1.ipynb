{
 "cells": [
  {
   "cell_type": "code",
   "execution_count": 1,
   "metadata": {},
   "outputs": [],
   "source": [
    "import pandas as pd"
   ]
  },
  {
   "cell_type": "code",
   "execution_count": 20,
   "metadata": {},
   "outputs": [],
   "source": [
    "db=pd.read_excel(r\"Comprehensive TAGS v6.1.9, 2016-Feb 2019.xlsx\", sheet_name=1)"
   ]
  },
  {
   "cell_type": "code",
   "execution_count": 22,
   "metadata": {},
   "outputs": [
    {
     "name": "stdout",
     "output_type": "stream",
     "text": [
      "<class 'pandas.core.frame.DataFrame'>\n",
      "RangeIndex: 59254 entries, 0 to 59253\n",
      "Data columns (total 36 columns):\n",
      "id_str                               59254 non-null int64\n",
      "from_user                            59254 non-null object\n",
      "text                                 59254 non-null object\n",
      "created_at                           59254 non-null object\n",
      "time                                 59254 non-null datetime64[ns]\n",
      "geo_coordinates                      14 non-null object\n",
      "user_lang                            59254 non-null object\n",
      "in_reply_to_user_id_str              2919 non-null float64\n",
      "in_reply_to_screen_name              2919 non-null object\n",
      "from_user_id_str                     59254 non-null int64\n",
      "in_reply_to_status_id_str            2492 non-null float64\n",
      "source                               59254 non-null object\n",
      "profile_image_url                    59249 non-null object\n",
      "user_followers_count                 59221 non-null float64\n",
      "user_friends_count                   59153 non-null float64\n",
      "user_location                        45292 non-null object\n",
      "status_url                           59254 non-null object\n",
      "entities_str                         59254 non-null object\n",
      "place                                909 non-null object\n",
      "retweet_count                        51991 non-null float64\n",
      "favorite_count                       9287 non-null float64\n",
      "user_description                     54494 non-null object\n",
      "user_created_at                      59254 non-null object\n",
      "user_time_zone                       0 non-null float64\n",
      "user_geo_enabled                     25638 non-null object\n",
      "user_protected                       0 non-null float64\n",
      "user_listed_count                    52943 non-null float64\n",
      "user_verified                        3246 non-null object\n",
      "user_statuses_count                  59254 non-null int64\n",
      "user_contributors_enabled            0 non-null float64\n",
      "user_profile_image_url               59249 non-null object\n",
      "user_profile_background_image_url    48914 non-null object\n",
      "user_screen_name                     59254 non-null object\n",
      "user_favourites_count                59112 non-null float64\n",
      "user_following                       40 non-null object\n",
      "possibly_sensitive                   232 non-null object\n",
      "dtypes: datetime64[ns](1), float64(11), int64(3), object(21)\n",
      "memory usage: 16.3+ MB\n"
     ]
    }
   ],
   "source": [
    "db.info()"
   ]
  },
  {
   "cell_type": "code",
   "execution_count": 11,
   "metadata": {},
   "outputs": [],
   "source": [
    "db3=pd.read_csv(\"db3.csv\")"
   ]
  },
  {
   "cell_type": "code",
   "execution_count": 15,
   "metadata": {},
   "outputs": [],
   "source": [
    "db4=pd.read_csv(\"db4.csv\")"
   ]
  },
  {
   "cell_type": "code",
   "execution_count": 23,
   "metadata": {},
   "outputs": [
    {
     "name": "stdout",
     "output_type": "stream",
     "text": [
      "<class 'pandas.core.frame.DataFrame'>\n",
      "RangeIndex: 26097 entries, 0 to 26096\n",
      "Data columns (total 35 columns):\n",
      "Unnamed: 0                   26097 non-null int64\n",
      "user_screen_name             26097 non-null object\n",
      "tweets_num                   26097 non-null int64\n",
      "id_str                       26097 non-null int64\n",
      "from_user                    26097 non-null object\n",
      "text                         26097 non-null object\n",
      "time                         26097 non-null object\n",
      "geo_coordinates              9 non-null object\n",
      "user_lang                    26097 non-null object\n",
      "in_reply_to_screen_name      571 non-null object\n",
      "from_user_id_str             26097 non-null int64\n",
      "in_reply_to_status_id_str    450 non-null float64\n",
      "source                       26097 non-null object\n",
      "user_followers_count         26077 non-null float64\n",
      "user_friends_count           26047 non-null float64\n",
      "user_location                19186 non-null object\n",
      "entities_str                 26097 non-null object\n",
      "place                        234 non-null object\n",
      "retweet_count                23660 non-null float64\n",
      "favorite_count               1977 non-null float64\n",
      "user_description             23241 non-null object\n",
      "user_created_at              26097 non-null object\n",
      "user_geo_enabled             10984 non-null object\n",
      "user_listed_count            22346 non-null float64\n",
      "user_verified                549 non-null object\n",
      "user_statuses_count          26097 non-null int64\n",
      "user_favourites_count        26033 non-null float64\n",
      "possibly_sensitive           85 non-null object\n",
      "lang_trans                   26097 non-null object\n",
      "date                         26097 non-null object\n",
      "outlier_is                   26097 non-null int64\n",
      "outlier_dbs                  26097 non-null int64\n",
      "isoutlier_if                 26097 non-null int64\n",
      "created_days                 26097 non-null float64\n",
      "eng_or_not                   26097 non-null object\n",
      "dtypes: float64(8), int64(8), object(19)\n",
      "memory usage: 7.0+ MB\n"
     ]
    }
   ],
   "source": [
    "db4.info()"
   ]
  },
  {
   "cell_type": "code",
   "execution_count": 41,
   "metadata": {},
   "outputs": [],
   "source": [
    "userdb=db4.iloc[:,[1,2,4,8,10,12,13,14,15,17,20,21,22,23,24,25,26,27,28,29,33]]"
   ]
  },
  {
   "cell_type": "code",
   "execution_count": 42,
   "metadata": {},
   "outputs": [],
   "source": [
    "userdb.to_csv(\"SilentSam Users.csv\")"
   ]
  },
  {
   "cell_type": "code",
   "execution_count": 43,
   "metadata": {},
   "outputs": [
    {
     "data": {
      "text/plain": [
       "{'created_days',\n",
       " 'date',\n",
       " 'from_user',\n",
       " 'from_user_id_str',\n",
       " 'lang_trans',\n",
       " 'place',\n",
       " 'possibly_sensitive',\n",
       " 'source',\n",
       " 'tweets_num',\n",
       " 'user_created_at',\n",
       " 'user_description',\n",
       " 'user_favourites_count',\n",
       " 'user_followers_count',\n",
       " 'user_friends_count',\n",
       " 'user_geo_enabled',\n",
       " 'user_lang',\n",
       " 'user_listed_count',\n",
       " 'user_location',\n",
       " 'user_screen_name',\n",
       " 'user_statuses_count',\n",
       " 'user_verified'}"
      ]
     },
     "execution_count": 43,
     "metadata": {},
     "output_type": "execute_result"
    }
   ],
   "source": [
    "set(userdb.columns)"
   ]
  },
  {
   "cell_type": "code",
   "execution_count": 54,
   "metadata": {},
   "outputs": [],
   "source": [
    "db3=db3.iloc[:,1:]"
   ]
  },
  {
   "cell_type": "code",
   "execution_count": 56,
   "metadata": {},
   "outputs": [],
   "source": [
    "tweets=db3.loc[:,set(db3.columns)-set(userdb.columns)]"
   ]
  },
  {
   "cell_type": "code",
   "execution_count": 57,
   "metadata": {},
   "outputs": [],
   "source": [
    "tweets.to_csv(\"tweets.csv\")"
   ]
  },
  {
   "cell_type": "code",
   "execution_count": 12,
   "metadata": {},
   "outputs": [
    {
     "name": "stdout",
     "output_type": "stream",
     "text": [
      "<class 'pandas.core.frame.DataFrame'>\n",
      "RangeIndex: 59216 entries, 0 to 59215\n",
      "Data columns (total 35 columns):\n",
      "Unnamed: 0                   59216 non-null int64\n",
      "id_str                       59216 non-null int64\n",
      "from_user                    59216 non-null object\n",
      "text                         59216 non-null object\n",
      "time                         59216 non-null object\n",
      "geo_coordinates              14 non-null object\n",
      "user_lang                    59216 non-null object\n",
      "in_reply_to_screen_name      2916 non-null object\n",
      "from_user_id_str             59216 non-null int64\n",
      "in_reply_to_status_id_str    2490 non-null float64\n",
      "source                       59216 non-null object\n",
      "user_followers_count         59183 non-null float64\n",
      "user_friends_count           59115 non-null float64\n",
      "user_location                45261 non-null object\n",
      "entities_str                 59216 non-null object\n",
      "place                        908 non-null object\n",
      "retweet_count                51963 non-null float64\n",
      "favorite_count               9274 non-null float64\n",
      "user_description             54458 non-null object\n",
      "user_created_at              59216 non-null object\n",
      "user_geo_enabled             25624 non-null object\n",
      "user_listed_count            52910 non-null float64\n",
      "user_verified                59216 non-null bool\n",
      "user_statuses_count          59216 non-null int64\n",
      "user_screen_name             59216 non-null object\n",
      "user_favourites_count        59074 non-null float64\n",
      "possibly_sensitive           232 non-null object\n",
      "lang_trans                   59216 non-null object\n",
      "date                         59216 non-null object\n",
      "outlier_is                   59216 non-null int64\n",
      "outlier_dbs                  59216 non-null int64\n",
      "year                         59216 non-null int64\n",
      "yearmon                      59216 non-null object\n",
      "month                        59216 non-null int64\n",
      "trans_sour                   59216 non-null object\n",
      "dtypes: bool(1), float64(7), int64(8), object(19)\n",
      "memory usage: 15.4+ MB\n"
     ]
    }
   ],
   "source": [
    "tweet_columns=[]"
   ]
  }
 ],
 "metadata": {
  "kernelspec": {
   "display_name": "Python 3",
   "language": "python",
   "name": "python3"
  },
  "language_info": {
   "codemirror_mode": {
    "name": "ipython",
    "version": 3
   },
   "file_extension": ".py",
   "mimetype": "text/x-python",
   "name": "python",
   "nbconvert_exporter": "python",
   "pygments_lexer": "ipython3",
   "version": "3.6.6"
  }
 },
 "nbformat": 4,
 "nbformat_minor": 2
}
